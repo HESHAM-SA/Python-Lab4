{
 "cells": [
  {
   "cell_type": "code",
   "execution_count": 1,
   "id": "83c96a1c",
   "metadata": {},
   "outputs": [
    {
     "name": "stdout",
     "output_type": "stream",
     "text": [
      "Enter your Name: hesham\n",
      "Enter your Age: 10\n",
      "enter the number of items that you wants to buy:  q\n",
      "wrong value please enter a number\n",
      "enter the number of items that you wants to buy:  2\n",
      "enter the item name.it1\n",
      "enter the item price.500\n",
      "enter the item quantity.1\n",
      "item cost is : 500\n",
      "total cost is: 500\n",
      "enter the item name.it2\n",
      "enter the item price.500\n",
      "enter the item quantity.1\n",
      "item cost is : 500\n",
      "total cost is: 1000\n",
      "The New special price is:  800.0\n",
      "Do you want to buy again? type 'yes' if you want:yes\n",
      "Enter your Name: ali\n",
      "Enter your Age: 3\n",
      "Kid\n",
      "Do you want to buy again? type 'yes' if you want:yes\n",
      "Enter your Name: -3\n",
      "Enter your Age: -3\n",
      "Wrong age value, you can not enter value 0 or less.\n",
      "Do you want to buy again? type 'yes' if you want:no\n"
     ]
    }
   ],
   "source": [
    "repeat_process  = 'yes'\n",
    "while repeat_process == 'yes': \n",
    "    Name = input(\"Enter your Name: \")\n",
    "    while True:\n",
    "        try:\n",
    "            Age = int(input(\"Enter your Age: \"))\n",
    "            break\n",
    "        except:\n",
    "            print('wrong value please enter a number')\n",
    "    if Age > 0 and Age <= 6:\n",
    "        print(\"Kid\")\n",
    "    elif Age < 0 :\n",
    "        print(\"Wrong age value, you can not enter value 0 or less.\")\n",
    "    elif Age > 6 :\n",
    "        total_cost = 0 \n",
    "        while True:\n",
    "            try:\n",
    "                number_of_items = int(input(\"enter the number of items that you wants to buy:  \"))\n",
    "                break\n",
    "            except:\n",
    "                print('wrong value please enter a number')\n",
    "        for item in range(number_of_items): \n",
    "            item_name = input(\"enter the item name.\")\n",
    "            while True:\n",
    "                try:\n",
    "                    item_price = int(input(\"enter the item price.\"))\n",
    "                    break\n",
    "                except:\n",
    "                    print('wrong value please enter a number')\n",
    "            while True:        \n",
    "                try:\n",
    "                    item_quantity = int(input(\"enter the item quantity.\"))\n",
    "                    break\n",
    "                except:\n",
    "                    print('wrong value please enter a number')\n",
    "            item_cost =  item_price* item_quantity\n",
    "            total_cost+= item_cost\n",
    "            print(f'item cost is : {item_cost}\\ntotal cost is: {total_cost}')\n",
    "        if total_cost > 200 :\n",
    "            discount = (total_cost /100)* 20\n",
    "            New_total_cost = total_cost - discount\n",
    "            print(f'The New special price is:  {New_total_cost}')\n",
    "    repeat_process = input(\"Do you want to buy again? type 'yes' if you want:\")"
   ]
  },
  {
   "cell_type": "code",
   "execution_count": null,
   "id": "436fcf10",
   "metadata": {},
   "outputs": [],
   "source": []
  },
  {
   "cell_type": "code",
   "execution_count": null,
   "id": "fc14b55d",
   "metadata": {},
   "outputs": [],
   "source": []
  },
  {
   "cell_type": "code",
   "execution_count": null,
   "id": "b269e275",
   "metadata": {},
   "outputs": [],
   "source": []
  },
  {
   "cell_type": "code",
   "execution_count": null,
   "id": "41d36cc0",
   "metadata": {},
   "outputs": [],
   "source": []
  }
 ],
 "metadata": {
  "kernelspec": {
   "display_name": "Python 3 (ipykernel)",
   "language": "python",
   "name": "python3"
  },
  "language_info": {
   "codemirror_mode": {
    "name": "ipython",
    "version": 3
   },
   "file_extension": ".py",
   "mimetype": "text/x-python",
   "name": "python",
   "nbconvert_exporter": "python",
   "pygments_lexer": "ipython3",
   "version": "3.10.9"
  }
 },
 "nbformat": 4,
 "nbformat_minor": 5
}
